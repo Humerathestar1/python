{
  "nbformat": 4,
  "nbformat_minor": 0,
  "metadata": {
    "colab": {
      "provenance": [],
      "authorship_tag": "ABX9TyPQThYtmomF5dJfU0qzPJSu",
      "include_colab_link": true
    },
    "kernelspec": {
      "name": "python3",
      "display_name": "Python 3"
    },
    "language_info": {
      "name": "python"
    }
  },
  "cells": [
    {
      "cell_type": "markdown",
      "metadata": {
        "id": "view-in-github",
        "colab_type": "text"
      },
      "source": [
        "<a href=\"https://colab.research.google.com/github/Humerathestar1/python/blob/main/Untitled4.ipynb\" target=\"_parent\"><img src=\"https://colab.research.google.com/assets/colab-badge.svg\" alt=\"Open In Colab\"/></a>"
      ]
    },
    {
      "cell_type": "code",
      "execution_count": 2,
      "metadata": {
        "colab": {
          "base_uri": "https://localhost:8080/"
        },
        "id": "mPrGto2Vy-j5",
        "outputId": "5f791e34-2768-4715-85fb-79a450f0dc00"
      },
      "outputs": [
        {
          "output_type": "stream",
          "name": "stdout",
          "text": [
            "sageuniversity\n"
          ]
        }
      ],
      "source": [
        "str1 = \"sage\"\n",
        "str2 = \"university\"\n",
        "final_str = str1+ str2\n",
        "print(final_str)"
      ]
    },
    {
      "cell_type": "code",
      "source": [
        "str1 =\"sage\"\n",
        "len1 =len(str1)\n",
        "print(len1)\n",
        "str2 =\"university\"\n",
        "len2 =len(str2)\n",
        "print(len2)\n",
        "final_str = str1+str2\n",
        "print(final_str)"
      ],
      "metadata": {
        "colab": {
          "base_uri": "https://localhost:8080/"
        },
        "id": "UcstbAMizvAN",
        "outputId": "d430a6c1-fbe1-4a0c-902c-1ea06c1f6cac"
      },
      "execution_count": 3,
      "outputs": [
        {
          "output_type": "stream",
          "name": "stdout",
          "text": [
            "4\n",
            "10\n",
            "sageuniversity\n"
          ]
        }
      ]
    },
    {
      "cell_type": "code",
      "source": [
        "str = \"Humaira khan\"\n",
        "ch = str[8]\n",
        "print(ch)"
      ],
      "metadata": {
        "colab": {
          "base_uri": "https://localhost:8080/"
        },
        "id": "evAoMAff1uRy",
        "outputId": "53ec3718-a0b9-4849-facf-03ebb9709e4c"
      },
      "execution_count": 6,
      "outputs": [
        {
          "output_type": "stream",
          "name": "stdout",
          "text": [
            "k\n"
          ]
        }
      ]
    },
    {
      "cell_type": "code",
      "source": [
        "#slicing\n",
        "str =\"humaira khan\"\n",
        "print(str[:4])\n",
        "print(str[5:8])"
      ],
      "metadata": {
        "colab": {
          "base_uri": "https://localhost:8080/"
        },
        "id": "xDuHutNA3c-q",
        "outputId": "6c25dd6b-7505-4b0d-b758-e1e6760184cf"
      },
      "execution_count": 9,
      "outputs": [
        {
          "output_type": "stream",
          "name": "stdout",
          "text": [
            "huma\n",
            "ra \n"
          ]
        }
      ]
    },
    {
      "cell_type": "code",
      "source": [
        "str = \"apple\"\n",
        "print(str[-3:-1])"
      ],
      "metadata": {
        "colab": {
          "base_uri": "https://localhost:8080/"
        },
        "id": "ch5bXDBh4aR5",
        "outputId": "110ab933-f542-4c89-d221-d1cf4ffe6612"
      },
      "execution_count": 10,
      "outputs": [
        {
          "output_type": "stream",
          "name": "stdout",
          "text": [
            "pl\n"
          ]
        }
      ]
    },
    {
      "cell_type": "code",
      "source": [
        "str =\"i am studying python\"\n",
        "print(str.endswith(\"thon\"))"
      ],
      "metadata": {
        "colab": {
          "base_uri": "https://localhost:8080/"
        },
        "id": "H6CRDi_B5OA6",
        "outputId": "534e5517-c5ce-4f92-a48f-6d108eb83335"
      },
      "execution_count": 11,
      "outputs": [
        {
          "output_type": "stream",
          "name": "stdout",
          "text": [
            "True\n"
          ]
        }
      ]
    },
    {
      "cell_type": "code",
      "source": [
        "str =\"humaira khan\"\n",
        "print(str.capitalize())#capitalize first character"
      ],
      "metadata": {
        "colab": {
          "base_uri": "https://localhost:8080/"
        },
        "id": "1qk2gun55j_1",
        "outputId": "04031f9b-4b8d-4487-ce12-d7cdb08acd03"
      },
      "execution_count": 12,
      "outputs": [
        {
          "output_type": "stream",
          "name": "stdout",
          "text": [
            "Humaira khan\n"
          ]
        }
      ]
    },
    {
      "cell_type": "code",
      "source": [
        "str=\"today is very good day\"\n",
        "print(str.find(\"very\"))"
      ],
      "metadata": {
        "colab": {
          "base_uri": "https://localhost:8080/"
        },
        "id": "hL8mNa9q7xyg",
        "outputId": "7e90ca82-198a-4bf0-af9f-f8aa48d7bbba"
      },
      "execution_count": 16,
      "outputs": [
        {
          "output_type": "stream",
          "name": "stdout",
          "text": [
            "9\n"
          ]
        }
      ]
    },
    {
      "cell_type": "code",
      "source": [
        "str= \"hey whatsapp!How are you\"\n",
        "print(str.count(\"a\"))"
      ],
      "metadata": {
        "colab": {
          "base_uri": "https://localhost:8080/"
        },
        "id": "ISG0eqxf8Nm9",
        "outputId": "c0bbeb46-02c6-49a5-9aca-a5bfb1341db9"
      },
      "execution_count": 17,
      "outputs": [
        {
          "output_type": "stream",
          "name": "stdout",
          "text": [
            "3\n"
          ]
        }
      ]
    },
    {
      "cell_type": "code",
      "source": [
        "a=(input(\"enter your first name:\"))\n",
        "print(\"the length of your name is\",len(a))"
      ],
      "metadata": {
        "colab": {
          "base_uri": "https://localhost:8080/"
        },
        "id": "_x45eZ-C8oQ9",
        "outputId": "859a235b-bd85-470a-c09c-81d1701fc95b"
      },
      "execution_count": 20,
      "outputs": [
        {
          "output_type": "stream",
          "name": "stdout",
          "text": [
            "enter your first namehunny\n",
            "the length of your name is 5\n"
          ]
        }
      ]
    },
    {
      "cell_type": "code",
      "source": [
        "light = \"green\"\n",
        "if(light ==\"red\"):\n",
        "    print(\"stop\")\n",
        "elif(light ==\"green\"):\n",
        "    print(\"go\")\n",
        "elif(light ==\"yellow\"):\n",
        "    print(\"look\")"
      ],
      "metadata": {
        "colab": {
          "base_uri": "https://localhost:8080/"
        },
        "id": "OuQxrv1--XyS",
        "outputId": "a16d5fde-3ad3-474b-82c4-2b48d06573ba"
      },
      "execution_count": 21,
      "outputs": [
        {
          "output_type": "stream",
          "name": "stdout",
          "text": [
            "go\n"
          ]
        }
      ]
    },
    {
      "cell_type": "code",
      "source": [
        "marks=int(input(\"enter the marks of the student\"))\n",
        "if(marks>=90):\n",
        "     grade =\"A\"\n",
        "\n",
        "elif(marks >= 80 and marks <90):\n",
        "    grade=\"B\"\n",
        "\n",
        "elif(marks >= 70 and marks <80):\n",
        "    grade=\"c\"\n",
        "\n",
        "else:\n",
        "  grade=\"D\"\n",
        "\n",
        "  print(\"grade of the student ->\",grade)"
      ],
      "metadata": {
        "colab": {
          "base_uri": "https://localhost:8080/"
        },
        "id": "EaESFLD__lHu",
        "outputId": "4f0ccd21-7d3b-4ef4-fd0c-e481d99c3896"
      },
      "execution_count": 30,
      "outputs": [
        {
          "output_type": "stream",
          "name": "stdout",
          "text": [
            "enter the marks of the student69\n",
            "grade of the student -> D\n"
          ]
        }
      ]
    },
    {
      "cell_type": "code",
      "source": [
        "num=int(input(\"enter number:\"))\n",
        "rem = num % 2\n",
        "if(rem==0):\n",
        "   print(\"even\")\n",
        "else:\n",
        "    print(\"odd\")"
      ],
      "metadata": {
        "colab": {
          "base_uri": "https://localhost:8080/"
        },
        "id": "KSKObRMsCTL9",
        "outputId": "4a51a6de-de50-45c4-941d-8d42cb230461"
      },
      "execution_count": 32,
      "outputs": [
        {
          "output_type": "stream",
          "name": "stdout",
          "text": [
            "enter number:1\n",
            "odd\n"
          ]
        }
      ]
    },
    {
      "cell_type": "code",
      "source": [
        "a=int(input(\"enter first number:\"))\n",
        "b=int(input(\"enter second number:\"))\n",
        "c=int(input(\"enter third number:\"))\n",
        "if(a>=b and a>=c):\n",
        "    print(\"first number is largest\",a)\n",
        "elif(b>=c):\n",
        "    print(\"second number is largest\",a)\n",
        "else:\n",
        "    print(\"third number is largest\",a)"
      ],
      "metadata": {
        "colab": {
          "base_uri": "https://localhost:8080/"
        },
        "id": "L-_8Ad2pDSMZ",
        "outputId": "93c85ba6-300e-4bb0-e5b8-9c5259c892d6"
      },
      "execution_count": 34,
      "outputs": [
        {
          "output_type": "stream",
          "name": "stdout",
          "text": [
            "enter first number:102\n",
            "enter second number:55\n",
            "enter third number:66\n",
            "first number is largest 102\n"
          ]
        }
      ]
    }
  ]
}