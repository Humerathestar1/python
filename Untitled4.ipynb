{
  "nbformat": 4,
  "nbformat_minor": 0,
  "metadata": {
    "colab": {
      "provenance": [],
      "authorship_tag": "ABX9TyPhdqWUZj9/LC71OXgtNWf0",
      "include_colab_link": true
    },
    "kernelspec": {
      "name": "python3",
      "display_name": "Python 3"
    },
    "language_info": {
      "name": "python"
    }
  },
  "cells": [
    {
      "cell_type": "markdown",
      "metadata": {
        "id": "view-in-github",
        "colab_type": "text"
      },
      "source": [
        "<a href=\"https://colab.research.google.com/github/Humerathestar1/python/blob/main/Untitled4.ipynb\" target=\"_parent\"><img src=\"https://colab.research.google.com/assets/colab-badge.svg\" alt=\"Open In Colab\"/></a>"
      ]
    },
    {
      "cell_type": "code",
      "execution_count": 2,
      "metadata": {
        "colab": {
          "base_uri": "https://localhost:8080/"
        },
        "id": "mPrGto2Vy-j5",
        "outputId": "5f791e34-2768-4715-85fb-79a450f0dc00"
      },
      "outputs": [
        {
          "output_type": "stream",
          "name": "stdout",
          "text": [
            "sageuniversity\n"
          ]
        }
      ],
      "source": [
        "str1 = \"sage\"\n",
        "str2 = \"university\"\n",
        "final_str = str1+ str2\n",
        "print(final_str)"
      ]
    },
    {
      "cell_type": "code",
      "source": [
        "str1 =\"sage\"\n",
        "len1 =len(str1)\n",
        "print(len1)\n",
        "str2 =\"university\"\n",
        "len2 =len(str2)\n",
        "print(len2)\n",
        "final_str = str1+str2\n",
        "print(final_str)"
      ],
      "metadata": {
        "colab": {
          "base_uri": "https://localhost:8080/"
        },
        "id": "UcstbAMizvAN",
        "outputId": "d430a6c1-fbe1-4a0c-902c-1ea06c1f6cac"
      },
      "execution_count": 3,
      "outputs": [
        {
          "output_type": "stream",
          "name": "stdout",
          "text": [
            "4\n",
            "10\n",
            "sageuniversity\n"
          ]
        }
      ]
    },
    {
      "cell_type": "code",
      "source": [
        "str = \"Humaira khan\"\n",
        "ch = str[8]\n",
        "print(ch)"
      ],
      "metadata": {
        "colab": {
          "base_uri": "https://localhost:8080/"
        },
        "id": "evAoMAff1uRy",
        "outputId": "53ec3718-a0b9-4849-facf-03ebb9709e4c"
      },
      "execution_count": 6,
      "outputs": [
        {
          "output_type": "stream",
          "name": "stdout",
          "text": [
            "k\n"
          ]
        }
      ]
    }
  ]
}