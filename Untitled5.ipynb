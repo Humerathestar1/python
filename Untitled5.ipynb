{
  "nbformat": 4,
  "nbformat_minor": 0,
  "metadata": {
    "colab": {
      "provenance": [],
      "authorship_tag": "ABX9TyNp6Gc9vXYljHQHfPEnrBWs",
      "include_colab_link": true
    },
    "kernelspec": {
      "name": "python3",
      "display_name": "Python 3"
    },
    "language_info": {
      "name": "python"
    }
  },
  "cells": [
    {
      "cell_type": "markdown",
      "metadata": {
        "id": "view-in-github",
        "colab_type": "text"
      },
      "source": [
        "<a href=\"https://colab.research.google.com/github/Humerathestar1/python/blob/main/Untitled5.ipynb\" target=\"_parent\"><img src=\"https://colab.research.google.com/assets/colab-badge.svg\" alt=\"Open In Colab\"/></a>"
      ]
    },
    {
      "cell_type": "code",
      "execution_count": null,
      "metadata": {
        "colab": {
          "base_uri": "https://localhost:8080/"
        },
        "id": "LgIJV0P8IZvr",
        "outputId": "9f0a91c0-5a19-44f6-a9d0-cf21fa8358c4"
      },
      "outputs": [
        {
          "output_type": "stream",
          "name": "stdout",
          "text": [
            "[94.4, 78.5, 67.0, 13.5, 89.7]\n",
            "<class 'list'>\n"
          ]
        }
      ],
      "source": [
        "marks = [94.4,78.5,67.0,13.5,89.7]\n",
        "print(marks)\n",
        "print(type(marks))"
      ]
    },
    {
      "cell_type": "code",
      "source": [
        "list1 = [\"six\",6,7,\"seven\",\"seven_six\"]\n",
        "list1.pop(4)\n",
        "list1.pop(3)\n",
        "list1.pop(2)\n",
        "print(list1)"
      ],
      "metadata": {
        "colab": {
          "base_uri": "https://localhost:8080/"
        },
        "id": "oPobSQfW4IVg",
        "outputId": "53bd01c3-7b2c-48cd-9fbb-283782bc64f1"
      },
      "execution_count": null,
      "outputs": [
        {
          "output_type": "stream",
          "name": "stdout",
          "text": [
            "['six', 6]\n"
          ]
        }
      ]
    },
    {
      "cell_type": "code",
      "source": [
        "list1 = [100,3.4,\"humaira\",12,1]\n",
        "list1.sorted(list.key)\n",
        "print(list1)"
      ],
      "metadata": {
        "colab": {
          "base_uri": "https://localhost:8080/"
        },
        "id": "VQcgDASu5OAZ",
        "outputId": "21ff007b-c50f-419a-9f57-add061d40c81"
      },
      "execution_count": null,
      "outputs": [
        {
          "output_type": "stream",
          "name": "stdout",
          "text": [
            "[1, 3, 4, 12, 100]\n"
          ]
        }
      ]
    },
    {
      "cell_type": "code",
      "source": [
        "list1 = [100,3,\"xyz\",12,1]\n",
        "sorted_list = sorted(list1,key=str)\n",
        "print(sorted_list)"
      ],
      "metadata": {
        "colab": {
          "base_uri": "https://localhost:8080/"
        },
        "id": "DaB88Qgk50Av",
        "outputId": "f8705a58-cfd3-48d7-9abc-4ade654474a4"
      },
      "execution_count": null,
      "outputs": [
        {
          "output_type": "stream",
          "name": "stdout",
          "text": [
            "[1, 100, 12, 3, 'xyz']\n"
          ]
        }
      ]
    },
    {
      "cell_type": "code",
      "source": [
        "list1 =[1,2,2,33,55,55,55,77]\n",
        "print(list1.count(55))"
      ],
      "metadata": {
        "colab": {
          "base_uri": "https://localhost:8080/"
        },
        "id": "Sk_U7RLy-lqo",
        "outputId": "071a0cbe-0ec1-4ae3-c50f-7c7a8205bb61"
      },
      "execution_count": 22,
      "outputs": [
        {
          "output_type": "stream",
          "name": "stdout",
          "text": [
            "3\n"
          ]
        }
      ]
    }
  ]
}