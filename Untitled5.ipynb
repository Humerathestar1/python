{
  "nbformat": 4,
  "nbformat_minor": 0,
  "metadata": {
    "colab": {
      "provenance": [],
      "authorship_tag": "ABX9TyMnHisf+oDjrwbYwlSWaBTQ",
      "include_colab_link": true
    },
    "kernelspec": {
      "name": "python3",
      "display_name": "Python 3"
    },
    "language_info": {
      "name": "python"
    }
  },
  "cells": [
    {
      "cell_type": "markdown",
      "metadata": {
        "id": "view-in-github",
        "colab_type": "text"
      },
      "source": [
        "<a href=\"https://colab.research.google.com/github/Humerathestar1/python/blob/main/Untitled5.ipynb\" target=\"_parent\"><img src=\"https://colab.research.google.com/assets/colab-badge.svg\" alt=\"Open In Colab\"/></a>"
      ]
    },
    {
      "cell_type": "code",
      "execution_count": null,
      "metadata": {
        "colab": {
          "base_uri": "https://localhost:8080/"
        },
        "id": "LgIJV0P8IZvr",
        "outputId": "9f0a91c0-5a19-44f6-a9d0-cf21fa8358c4"
      },
      "outputs": [
        {
          "output_type": "stream",
          "name": "stdout",
          "text": [
            "[94.4, 78.5, 67.0, 13.5, 89.7]\n",
            "<class 'list'>\n"
          ]
        }
      ],
      "source": [
        "marks = [94.4,78.5,67.0,13.5,89.7]\n",
        "print(marks)\n",
        "print(type(marks))"
      ]
    },
    {
      "cell_type": "code",
      "source": [
        "list1 = [\"six\",6,7,\"seven\",\"seven_six\"]\n",
        "list1.pop(4)\n",
        "list1.pop(3)\n",
        "list1.pop(2)\n",
        "print(list1)"
      ],
      "metadata": {
        "colab": {
          "base_uri": "https://localhost:8080/"
        },
        "id": "oPobSQfW4IVg",
        "outputId": "53bd01c3-7b2c-48cd-9fbb-283782bc64f1"
      },
      "execution_count": 4,
      "outputs": [
        {
          "output_type": "stream",
          "name": "stdout",
          "text": [
            "['six', 6]\n"
          ]
        }
      ]
    },
    {
      "cell_type": "code",
      "source": [
        "movies =[]\n",
        "mov1=input(\"enter first movies name\")\n",
        "mov2=input(\"enter first movies name\")\n",
        "mov3=input(\"enter first movies name\")\n",
        "\n",
        "\n",
        "  movies.append(mov1)\n",
        "  movies.append(mov2)\n",
        "  movies.append(mov3)\n",
        "  print(movies)"
      ],
      "metadata": {
        "colab": {
          "base_uri": "https://localhost:8080/",
          "height": 106
        },
        "id": "VLtJoJBFOYwL",
        "outputId": "318383b5-4cf1-4393-dc84-d45552acd77f"
      },
      "execution_count": null,
      "outputs": [
        {
          "output_type": "error",
          "ename": "IndentationError",
          "evalue": "unexpected indent (<ipython-input-6-c00c799a767c>, line 7)",
          "traceback": [
            "\u001b[0;36m  File \u001b[0;32m\"<ipython-input-6-c00c799a767c>\"\u001b[0;36m, line \u001b[0;32m7\u001b[0m\n\u001b[0;31m    movies.append(mov1)\u001b[0m\n\u001b[0m    ^\u001b[0m\n\u001b[0;31mIndentationError\u001b[0m\u001b[0;31m:\u001b[0m unexpected indent\n"
          ]
        }
      ]
    }
  ]
}