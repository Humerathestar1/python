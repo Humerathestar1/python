{
  "nbformat": 4,
  "nbformat_minor": 0,
  "metadata": {
    "colab": {
      "provenance": [],
      "authorship_tag": "ABX9TyPk2IUXchWsPU8eBWWUsj9z",
      "include_colab_link": true
    },
    "kernelspec": {
      "name": "python3",
      "display_name": "Python 3"
    },
    "language_info": {
      "name": "python"
    }
  },
  "cells": [
    {
      "cell_type": "markdown",
      "metadata": {
        "id": "view-in-github",
        "colab_type": "text"
      },
      "source": [
        "<a href=\"https://colab.research.google.com/github/Humerathestar1/python/blob/main/Untitled0.ipynb\" target=\"_parent\"><img src=\"https://colab.research.google.com/assets/colab-badge.svg\" alt=\"Open In Colab\"/></a>"
      ]
    },
    {
      "cell_type": "code",
      "execution_count": 4,
      "metadata": {
        "id": "GAJYA522H9S8",
        "colab": {
          "base_uri": "https://localhost:8080/"
        },
        "outputId": "01812c09-7f40-4277-95c2-301ed632bf76"
      },
      "outputs": [
        {
          "output_type": "stream",
          "name": "stdout",
          "text": [
            "{'cat': 'a small animal', 'table': ['a piece of furniture', 'list of facts and figures']}\n"
          ]
        }
      ],
      "source": [
        "dictionary={\n",
        "    \"cat\":\"a small animal\",\n",
        "    \"table\":[\"a piece of furniture\",\"list of facts and figures\"]\n",
        "\n",
        "}\n",
        "print (dictionary)"
      ]
    }
  ]
}