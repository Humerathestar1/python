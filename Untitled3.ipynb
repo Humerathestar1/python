{
  "nbformat": 4,
  "nbformat_minor": 0,
  "metadata": {
    "colab": {
      "provenance": [],
      "authorship_tag": "ABX9TyPGCGbg0r/4V3KSAUybWJss",
      "include_colab_link": true
    },
    "kernelspec": {
      "name": "python3",
      "display_name": "Python 3"
    },
    "language_info": {
      "name": "python"
    }
  },
  "cells": [
    {
      "cell_type": "markdown",
      "metadata": {
        "id": "view-in-github",
        "colab_type": "text"
      },
      "source": [
        "<a href=\"https://colab.research.google.com/github/Humerathestar1/python/blob/main/Untitled3.ipynb\" target=\"_parent\"><img src=\"https://colab.research.google.com/assets/colab-badge.svg\" alt=\"Open In Colab\"/></a>"
      ]
    },
    {
      "cell_type": "code",
      "execution_count": 1,
      "metadata": {
        "colab": {
          "base_uri": "https://localhost:8080/"
        },
        "id": "K8aR_7zoIjfv",
        "outputId": "e3218458-5c3c-4835-9c3e-3d86880a5972"
      },
      "outputs": [
        {
          "output_type": "stream",
          "name": "stdout",
          "text": [
            "humaira khan\n"
          ]
        }
      ],
      "source": [
        "print(\"humaira khan\")"
      ]
    },
    {
      "cell_type": "code",
      "source": [
        "name=\"huamira khan\"\n",
        "Age=18\n",
        "price=23.65\n",
        "print(type(name))\n",
        "print(type(Age))\n",
        "print(type(price))\n",
        "\n",
        "\n",
        "\n"
      ],
      "metadata": {
        "colab": {
          "base_uri": "https://localhost:8080/"
        },
        "id": "fN8A1654KOQ_",
        "outputId": "939e43db-d1fb-4151-aebe-3ccc46b9a586"
      },
      "execution_count": 7,
      "outputs": [
        {
          "output_type": "stream",
          "name": "stdout",
          "text": [
            "<class 'str'>\n",
            "<class 'int'>\n",
            "<class 'float'>\n"
          ]
        }
      ]
    }
  ]
}