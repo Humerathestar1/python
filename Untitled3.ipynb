{
  "nbformat": 4,
  "nbformat_minor": 0,
  "metadata": {
    "colab": {
      "provenance": [],
      "authorship_tag": "ABX9TyMXkznRMZIh1nF6ffeDdtDS",
      "include_colab_link": true
    },
    "kernelspec": {
      "name": "python3",
      "display_name": "Python 3"
    },
    "language_info": {
      "name": "python"
    }
  },
  "cells": [
    {
      "cell_type": "markdown",
      "metadata": {
        "id": "view-in-github",
        "colab_type": "text"
      },
      "source": [
        "<a href=\"https://colab.research.google.com/github/Humerathestar1/python/blob/main/Untitled3.ipynb\" target=\"_parent\"><img src=\"https://colab.research.google.com/assets/colab-badge.svg\" alt=\"Open In Colab\"/></a>"
      ]
    },
    {
      "cell_type": "code",
      "execution_count": 1,
      "metadata": {
        "colab": {
          "base_uri": "https://localhost:8080/"
        },
        "id": "K8aR_7zoIjfv",
        "outputId": "e3218458-5c3c-4835-9c3e-3d86880a5972"
      },
      "outputs": [
        {
          "output_type": "stream",
          "name": "stdout",
          "text": [
            "humaira khan\n"
          ]
        }
      ],
      "source": [
        "print(\"humaira khan\")"
      ]
    },
    {
      "cell_type": "code",
      "source": [
        "name=\"huamira khan\"\n",
        "Age=18\n",
        "price=23.65\n",
        "print(type(name))\n",
        "print(type(Age))\n",
        "print(type(price))\n",
        "\n",
        "\n",
        "\n"
      ],
      "metadata": {
        "colab": {
          "base_uri": "https://localhost:8080/"
        },
        "id": "fN8A1654KOQ_",
        "outputId": "939e43db-d1fb-4151-aebe-3ccc46b9a586"
      },
      "execution_count": 7,
      "outputs": [
        {
          "output_type": "stream",
          "name": "stdout",
          "text": [
            "<class 'str'>\n",
            "<class 'int'>\n",
            "<class 'float'>\n"
          ]
        }
      ]
    },
    {
      "cell_type": "code",
      "source": [
        "#arithmetic operator\n",
        "a=5\n",
        "b=2\n",
        "print(a+b)\n",
        "print(a-b)\n",
        "print(a*b)\n",
        "print(a/b)\n",
        "print(a%b)\n",
        "print(a**b)"
      ],
      "metadata": {
        "colab": {
          "base_uri": "https://localhost:8080/"
        },
        "id": "fs1qX_dnRYDf",
        "outputId": "2eb7a5f6-031b-426f-87fe-b852197c6adf"
      },
      "execution_count": 9,
      "outputs": [
        {
          "output_type": "stream",
          "name": "stdout",
          "text": [
            "7\n",
            "3\n",
            "10\n",
            "2.5\n",
            "1\n",
            "25\n"
          ]
        }
      ]
    },
    {
      "cell_type": "code",
      "source": [
        "#relational operator\n",
        "a=30\n",
        "b=20\n",
        "print(a==b)#false\n",
        "print(a!=b)#false\n"
      ],
      "metadata": {
        "colab": {
          "base_uri": "https://localhost:8080/"
        },
        "id": "2_vMeHfTTBW6",
        "outputId": "b94b5bc4-dbb6-46cb-aed8-e6ba1cc597db"
      },
      "execution_count": 10,
      "outputs": [
        {
          "output_type": "stream",
          "name": "stdout",
          "text": [
            "False\n",
            "True\n"
          ]
        }
      ]
    },
    {
      "cell_type": "code",
      "source": [
        "a=30\n",
        "b=32\n",
        "print(a>=b)\n",
        "print(a>b)\n",
        "print(a<=b)\n",
        "print(a<b)\n",
        "\n"
      ],
      "metadata": {
        "colab": {
          "base_uri": "https://localhost:8080/"
        },
        "id": "SaUh82VQTvaR",
        "outputId": "388c109d-d896-4dee-d84e-d3e1a47bdfc7"
      },
      "execution_count": 11,
      "outputs": [
        {
          "output_type": "stream",
          "name": "stdout",
          "text": [
            "False\n",
            "False\n",
            "True\n",
            "True\n"
          ]
        }
      ]
    },
    {
      "cell_type": "code",
      "source": [
        "num=10\n",
        "num=num+10\n",
        "print(\"num :\",num)"
      ],
      "metadata": {
        "colab": {
          "base_uri": "https://localhost:8080/"
        },
        "id": "Lt2D5_CrUcS0",
        "outputId": "def92d12-6057-4829-936a-0a4fdccbb8ed"
      },
      "execution_count": 12,
      "outputs": [
        {
          "output_type": "stream",
          "name": "stdout",
          "text": [
            "num : 20\n"
          ]
        }
      ]
    },
    {
      "cell_type": "code",
      "source": [
        "a=50\n",
        "b=30\n",
        "print(not False)\n",
        "print(not(a>b))\n",
        "val1 =True\n",
        "val2 = True\n",
        "print(\"and operator\", val1 and val2)"
      ],
      "metadata": {
        "colab": {
          "base_uri": "https://localhost:8080/"
        },
        "id": "za5UfyHRVahO",
        "outputId": "1c8a98b6-8cfd-4abd-e996-4171ece56689"
      },
      "execution_count": 13,
      "outputs": [
        {
          "output_type": "stream",
          "name": "stdout",
          "text": [
            "True\n",
            "False\n",
            "and operator True\n"
          ]
        }
      ]
    },
    {
      "cell_type": "code",
      "source": [
        "a = float(\"2\")\n",
        "b= 4.25\n",
        "print(type(a))\n",
        "print(a+b)"
      ],
      "metadata": {
        "colab": {
          "base_uri": "https://localhost:8080/"
        },
        "id": "_0ARsONVXzt2",
        "outputId": "17584328-4cd2-48c4-c195-0c4f3b7b8266"
      },
      "execution_count": 14,
      "outputs": [
        {
          "output_type": "stream",
          "name": "stdout",
          "text": [
            "<class 'float'>\n",
            "6.25\n"
          ]
        }
      ]
    },
    {
      "cell_type": "code",
      "source": [
        "name = input(\"enter your name:\")\n",
        "age = input(\"enter your age:\")\n",
        "print(\"you enter\",name)\n",
        "print(\"you enter\",age)"
      ],
      "metadata": {
        "colab": {
          "base_uri": "https://localhost:8080/"
        },
        "id": "AEDX-gHDYQ0d",
        "outputId": "090160d6-f204-4e76-f76e-7523a478528b"
      },
      "execution_count": 15,
      "outputs": [
        {
          "output_type": "stream",
          "name": "stdout",
          "text": [
            "enter your name:humaira khan\n",
            "enter your age:18\n",
            "you enter humaira khan\n",
            "you enter 18\n"
          ]
        }
      ]
    },
    {
      "cell_type": "code",
      "source": [
        "side = float(input(\"enter the side of the square:\"))\n",
        "print(\"area\", side*side)"
      ],
      "metadata": {
        "colab": {
          "base_uri": "https://localhost:8080/"
        },
        "id": "7L28S-uIc7IQ",
        "outputId": "c516b80c-e2c2-4d3f-8dba-cd3191c8de97"
      },
      "execution_count": 25,
      "outputs": [
        {
          "output_type": "stream",
          "name": "stdout",
          "text": [
            "enter the side of the square:5\n",
            "area 25.0\n"
          ]
        }
      ]
    },
    {
      "cell_type": "code",
      "source": [
        "a=int(input(\"enter first:\"))\n",
        "b=int(input(\"enter second:\"))\n",
        "print(a>=b)"
      ],
      "metadata": {
        "colab": {
          "base_uri": "https://localhost:8080/"
        },
        "id": "p7jSIH4Dd2zT",
        "outputId": "8abee4cc-8be7-4ff2-af46-27a953655c56"
      },
      "execution_count": 28,
      "outputs": [
        {
          "output_type": "stream",
          "name": "stdout",
          "text": [
            "enter first:15\n",
            "enter second:2\n",
            "True\n"
          ]
        }
      ]
    },
    {
      "cell_type": "markdown",
      "source": [],
      "metadata": {
        "id": "V9NRzbJqUaaP"
      }
    }
  ]
}